{
  "nbformat": 4,
  "nbformat_minor": 0,
  "metadata": {
    "colab": {
      "name": "Extractive Summary",
      "private_outputs": true,
      "provenance": [],
      "collapsed_sections": []
    },
    "kernelspec": {
      "name": "python3",
      "display_name": "Python 3"
    },
    "accelerator": "GPU"
  },
  "cells": [
    {
      "cell_type": "code",
      "metadata": {
        "id": "L8Pe0Kz7ZV7i"
      },
      "source": [
        "!pip install bert-extractive-summarizer\n",
        "!pip install transformers==3.5.1\n",
        "!pip install spacy==2.3.2\n",
        "\n",
        "from transformers import *\n",
        "import tokenization_kobert\n",
        "from tokenization_kobert import KoBertTokenizer\n",
        "\n",
        "custom_config = AutoConfig.from_pretrained('monologg/kobert')\n",
        "custom_config.output_hidden_states=True\n",
        "custom_tokenizer = KoBertTokenizer.from_pretrained('monologg/kobert') \n",
        "custom_model = BertModel.from_pretrained('monologg/kobert',config=custom_config)"
      ],
      "execution_count": null,
      "outputs": []
    },
    {
      "cell_type": "code",
      "metadata": {
        "id": "76WfsDhp7h1x"
      },
      "source": [
        "import os\n",
        "\n",
        "!git clone https://github.com/SOMJANG/Mecab-ko-for-Google-Colab.git\n",
        "os.chdir('/content/Mecab-ko-for-Google-Colab')\n",
        "!bash install_mecab-ko_on_colab190912.sh\n",
        "\n",
        "!pip install natto-py\n",
        "import natto\n",
        "os.chdir('/content')\n",
        "from summarizer import Summarizer\n",
        "model = Summarizer(custom_model=custom_model, custom_tokenizer=custom_tokenizer)"
      ],
      "execution_count": null,
      "outputs": []
    },
    {
      "cell_type": "code",
      "metadata": {
        "id": "wUnlYN4dJ-Q0"
      },
      "source": [
        "!pip install natto-py\n",
        "import natto\n",
        "os.chdir('/content')\n",
        "from summarizer import Summarizer\n",
        "model = Summarizer(custom_model=custom_model, custom_tokenizer=custom_tokenizer)"
      ],
      "execution_count": null,
      "outputs": []
    },
    {
      "cell_type": "code",
      "metadata": {
        "id": "0OMANv2y8U6-"
      },
      "source": [
        "import json\n",
        "test = []\n",
        "for line in open('extractive_test_v2.jsonl', 'r'):\n",
        "    test.append(json.loads(line))"
      ],
      "execution_count": null,
      "outputs": []
    },
    {
      "cell_type": "code",
      "metadata": {
        "id": "n8lhQrXt_t19"
      },
      "source": [
        "test_article=[]\n",
        "for i in test:\n",
        "    test_article.append(i['article_original'])"
      ],
      "execution_count": null,
      "outputs": []
    },
    {
      "cell_type": "code",
      "metadata": {
        "id": "xdbuq3VAMaRP"
      },
      "source": [
        "for i in test_article:\n",
        "    for j,item in enumerate(i):\n",
        "        i[j]=item.replace('.','')"
      ],
      "execution_count": null,
      "outputs": []
    },
    {
      "cell_type": "code",
      "metadata": {
        "id": "13Eu7s85BIKw"
      },
      "source": [
        "from tqdm.notebook import tqdm\n",
        "for i,item in tqdm(enumerate(test_article)):\n",
        "    test_article[i]=model('\\n'+'.\\n'.join(item)+'.\\n',num_sentences=3).split('.')"
      ],
      "execution_count": null,
      "outputs": []
    },
    {
      "cell_type": "code",
      "metadata": {
        "id": "cTV-urnqMwEA"
      },
      "source": [
        "for i,item in enumerate(test_article):\n",
        "    if(len(item)>3):\n",
        "        test_article[i]=test_article[i][:3]"
      ],
      "execution_count": null,
      "outputs": []
    },
    {
      "cell_type": "code",
      "metadata": {
        "id": "fgOUzHdQYB6t"
      },
      "source": [
        "for i,item in enumerate(test_article):\n",
        "    test_article[i]='\\n'.join(item)\n",
        "    "
      ],
      "execution_count": null,
      "outputs": []
    },
    {
      "cell_type": "code",
      "metadata": {
        "id": "_u_Td6DzYpTP"
      },
      "source": [
        "import numpy as np\n",
        "import pandas as pd\n",
        "pd.DataFrame(np.array(test_article)).to_csv('submission.csv',encoding='utf-8')"
      ],
      "execution_count": null,
      "outputs": []
    },
    {
      "cell_type": "code",
      "metadata": {
        "id": "V4IWIAzjZqXJ"
      },
      "source": [
        "submission=pd.read_csv('extractive_sample_submission_v2.csv',encoding='utf-8')"
      ],
      "execution_count": null,
      "outputs": []
    },
    {
      "cell_type": "code",
      "metadata": {
        "id": "mHasjnUcaUy3"
      },
      "source": [
        "submission['summary']=np.array(k)"
      ],
      "execution_count": null,
      "outputs": []
    },
    {
      "cell_type": "code",
      "metadata": {
        "id": "2OV90CffaWuR"
      },
      "source": [
        "submission.to_csv('submission.csv',encoding='ms949',index=False)"
      ],
      "execution_count": null,
      "outputs": []
    }
  ]
}